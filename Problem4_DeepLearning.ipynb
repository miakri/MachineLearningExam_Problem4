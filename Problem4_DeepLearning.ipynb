{
  "nbformat": 4,
  "nbformat_minor": 0,
  "metadata": {
    "colab": {
      "name": "Problem4_DeepLearning.ipynb",
      "provenance": [],
      "authorship_tag": "ABX9TyPLG17oP+0lb9P0P7vQ6dug",
      "include_colab_link": true
    },
    "kernelspec": {
      "name": "python3",
      "display_name": "Python 3"
    }
  },
  "cells": [
    {
      "cell_type": "markdown",
      "metadata": {
        "id": "view-in-github",
        "colab_type": "text"
      },
      "source": [
        "<a href=\"https://colab.research.google.com/github/miakri/MachineLearningExam_Problem4/blob/main/Problem4_DeepLearning.ipynb\" target=\"_parent\"><img src=\"https://colab.research.google.com/assets/colab-badge.svg\" alt=\"Open In Colab\"/></a>"
      ]
    },
    {
      "cell_type": "code",
      "metadata": {
        "id": "xMkBOqEHIKLy"
      },
      "source": [
        "%tensorflow_version 1.x"
      ],
      "execution_count": 51,
      "outputs": []
    },
    {
      "cell_type": "code",
      "metadata": {
        "id": "wKP8BGeQEzjt"
      },
      "source": [
        "import numpy as np\n",
        "import pandas as pd\n",
        "import sklearn\n",
        "import matplotlib.pyplot as plt\n",
        "import tensorflow as tf\n",
        "import keras\n",
        "%matplotlib inline"
      ],
      "execution_count": 52,
      "outputs": []
    },
    {
      "cell_type": "code",
      "metadata": {
        "id": "pHyITbFzI333"
      },
      "source": [
        "data = pd.read_csv('cleaned_train_test_combined.csv')"
      ],
      "execution_count": 4,
      "outputs": []
    },
    {
      "cell_type": "code",
      "metadata": {
        "colab": {
          "base_uri": "https://localhost:8080/",
          "height": 221
        },
        "id": "sdVby1FFJOE5",
        "outputId": "1147dd9c-8a11-4074-8307-b3dfca8e34b7"
      },
      "source": [
        "data.head()"
      ],
      "execution_count": 5,
      "outputs": [
        {
          "output_type": "execute_result",
          "data": {
            "text/html": [
              "<div>\n",
              "<style scoped>\n",
              "    .dataframe tbody tr th:only-of-type {\n",
              "        vertical-align: middle;\n",
              "    }\n",
              "\n",
              "    .dataframe tbody tr th {\n",
              "        vertical-align: top;\n",
              "    }\n",
              "\n",
              "    .dataframe thead th {\n",
              "        text-align: right;\n",
              "    }\n",
              "</style>\n",
              "<table border=\"1\" class=\"dataframe\">\n",
              "  <thead>\n",
              "    <tr style=\"text-align: right;\">\n",
              "      <th></th>\n",
              "      <th>Item_Identifier</th>\n",
              "      <th>Item_Weight</th>\n",
              "      <th>Item_Fat_Content</th>\n",
              "      <th>Item_Visibility</th>\n",
              "      <th>Item_Type</th>\n",
              "      <th>Item_MRP</th>\n",
              "      <th>Outlet_Identifier</th>\n",
              "      <th>Outlet_Establishment_Year</th>\n",
              "      <th>Outlet_Size</th>\n",
              "      <th>Outlet_Location_Type</th>\n",
              "      <th>Outlet_Type</th>\n",
              "      <th>Item_Outlet_Sales</th>\n",
              "      <th>Outlet_Years</th>\n",
              "    </tr>\n",
              "  </thead>\n",
              "  <tbody>\n",
              "    <tr>\n",
              "      <th>0</th>\n",
              "      <td>0</td>\n",
              "      <td>9.30</td>\n",
              "      <td>0</td>\n",
              "      <td>0.016047</td>\n",
              "      <td>4</td>\n",
              "      <td>249.8092</td>\n",
              "      <td>0</td>\n",
              "      <td>1999</td>\n",
              "      <td>1</td>\n",
              "      <td>0</td>\n",
              "      <td>1</td>\n",
              "      <td>3735.1380</td>\n",
              "      <td>20</td>\n",
              "    </tr>\n",
              "    <tr>\n",
              "      <th>1</th>\n",
              "      <td>1</td>\n",
              "      <td>5.92</td>\n",
              "      <td>1</td>\n",
              "      <td>0.019278</td>\n",
              "      <td>14</td>\n",
              "      <td>48.2692</td>\n",
              "      <td>1</td>\n",
              "      <td>2009</td>\n",
              "      <td>1</td>\n",
              "      <td>2</td>\n",
              "      <td>2</td>\n",
              "      <td>443.4228</td>\n",
              "      <td>10</td>\n",
              "    </tr>\n",
              "    <tr>\n",
              "      <th>2</th>\n",
              "      <td>0</td>\n",
              "      <td>17.50</td>\n",
              "      <td>0</td>\n",
              "      <td>0.016760</td>\n",
              "      <td>10</td>\n",
              "      <td>141.6180</td>\n",
              "      <td>0</td>\n",
              "      <td>1999</td>\n",
              "      <td>1</td>\n",
              "      <td>0</td>\n",
              "      <td>1</td>\n",
              "      <td>2097.2700</td>\n",
              "      <td>20</td>\n",
              "    </tr>\n",
              "    <tr>\n",
              "      <th>3</th>\n",
              "      <td>0</td>\n",
              "      <td>19.20</td>\n",
              "      <td>1</td>\n",
              "      <td>0.000000</td>\n",
              "      <td>6</td>\n",
              "      <td>182.0950</td>\n",
              "      <td>2</td>\n",
              "      <td>1998</td>\n",
              "      <td>1</td>\n",
              "      <td>2</td>\n",
              "      <td>0</td>\n",
              "      <td>732.3800</td>\n",
              "      <td>21</td>\n",
              "    </tr>\n",
              "    <tr>\n",
              "      <th>4</th>\n",
              "      <td>2</td>\n",
              "      <td>8.93</td>\n",
              "      <td>0</td>\n",
              "      <td>0.000000</td>\n",
              "      <td>9</td>\n",
              "      <td>53.8614</td>\n",
              "      <td>3</td>\n",
              "      <td>1987</td>\n",
              "      <td>2</td>\n",
              "      <td>2</td>\n",
              "      <td>1</td>\n",
              "      <td>994.7052</td>\n",
              "      <td>32</td>\n",
              "    </tr>\n",
              "  </tbody>\n",
              "</table>\n",
              "</div>"
            ],
            "text/plain": [
              "   Item_Identifier  Item_Weight  ...  Item_Outlet_Sales  Outlet_Years\n",
              "0                0         9.30  ...          3735.1380            20\n",
              "1                1         5.92  ...           443.4228            10\n",
              "2                0        17.50  ...          2097.2700            20\n",
              "3                0        19.20  ...           732.3800            21\n",
              "4                2         8.93  ...           994.7052            32\n",
              "\n",
              "[5 rows x 13 columns]"
            ]
          },
          "metadata": {
            "tags": []
          },
          "execution_count": 5
        }
      ]
    },
    {
      "cell_type": "code",
      "metadata": {
        "colab": {
          "base_uri": "https://localhost:8080/"
        },
        "id": "XZYOQrRTJPt-",
        "outputId": "c48da58e-3ebf-4e61-df43-bc6a828708e2"
      },
      "source": [
        "data.isnull().sum()"
      ],
      "execution_count": 6,
      "outputs": [
        {
          "output_type": "execute_result",
          "data": {
            "text/plain": [
              "Item_Identifier                 0\n",
              "Item_Weight                     0\n",
              "Item_Fat_Content                0\n",
              "Item_Visibility                 0\n",
              "Item_Type                       0\n",
              "Item_MRP                        0\n",
              "Outlet_Identifier               0\n",
              "Outlet_Establishment_Year       0\n",
              "Outlet_Size                     0\n",
              "Outlet_Location_Type            0\n",
              "Outlet_Type                     0\n",
              "Item_Outlet_Sales            1907\n",
              "Outlet_Years                    0\n",
              "dtype: int64"
            ]
          },
          "metadata": {
            "tags": []
          },
          "execution_count": 6
        }
      ]
    },
    {
      "cell_type": "code",
      "metadata": {
        "colab": {
          "base_uri": "https://localhost:8080/"
        },
        "id": "xlFOvDH4ULKd",
        "outputId": "9128b63e-7f90-4653-a6b0-89fdbe336e88"
      },
      "source": [
        "data['Item_Outlet_Sales'].mean()"
      ],
      "execution_count": 24,
      "outputs": [
        {
          "output_type": "execute_result",
          "data": {
            "text/plain": [
              "0.1888474562427072"
            ]
          },
          "metadata": {
            "tags": []
          },
          "execution_count": 24
        }
      ]
    },
    {
      "cell_type": "code",
      "metadata": {
        "colab": {
          "base_uri": "https://localhost:8080/"
        },
        "id": "so0QoiuAURRN",
        "outputId": "f5468f82-83fb-44f1-ca4d-97e6a4b5fdee"
      },
      "source": [
        "data['Item_Outlet_Sales'].median()"
      ],
      "execution_count": 25,
      "outputs": [
        {
          "output_type": "execute_result",
          "data": {
            "text/plain": [
              "0.15554259043173865"
            ]
          },
          "metadata": {
            "tags": []
          },
          "execution_count": 25
        }
      ]
    },
    {
      "cell_type": "code",
      "metadata": {
        "id": "Ftg8jtpcT9p6"
      },
      "source": [
        "data['Item_Outlet_Sales'].fillna(data['Item_Outlet_Sales'].median(), inplace=True)"
      ],
      "execution_count": 27,
      "outputs": []
    },
    {
      "cell_type": "code",
      "metadata": {
        "colab": {
          "base_uri": "https://localhost:8080/",
          "height": 313
        },
        "id": "538bnMpEUm1_",
        "outputId": "242e4927-01f6-44d4-c7a5-6d9d9da95c29"
      },
      "source": [
        "data.describe()"
      ],
      "execution_count": 28,
      "outputs": [
        {
          "output_type": "execute_result",
          "data": {
            "text/html": [
              "<div>\n",
              "<style scoped>\n",
              "    .dataframe tbody tr th:only-of-type {\n",
              "        vertical-align: middle;\n",
              "    }\n",
              "\n",
              "    .dataframe tbody tr th {\n",
              "        vertical-align: top;\n",
              "    }\n",
              "\n",
              "    .dataframe thead th {\n",
              "        text-align: right;\n",
              "    }\n",
              "</style>\n",
              "<table border=\"1\" class=\"dataframe\">\n",
              "  <thead>\n",
              "    <tr style=\"text-align: right;\">\n",
              "      <th></th>\n",
              "      <th>Item_Identifier</th>\n",
              "      <th>Item_Weight</th>\n",
              "      <th>Item_Fat_Content</th>\n",
              "      <th>Item_Visibility</th>\n",
              "      <th>Item_Type</th>\n",
              "      <th>Item_MRP</th>\n",
              "      <th>Outlet_Identifier</th>\n",
              "      <th>Outlet_Establishment_Year</th>\n",
              "      <th>Outlet_Size</th>\n",
              "      <th>Outlet_Location_Type</th>\n",
              "      <th>Outlet_Type</th>\n",
              "      <th>Item_Outlet_Sales</th>\n",
              "      <th>Outlet_Years</th>\n",
              "    </tr>\n",
              "  </thead>\n",
              "  <tbody>\n",
              "    <tr>\n",
              "      <th>count</th>\n",
              "      <td>6907.000000</td>\n",
              "      <td>6907.000000</td>\n",
              "      <td>6907.000000</td>\n",
              "      <td>6907.000000</td>\n",
              "      <td>6907.000000</td>\n",
              "      <td>6907.000000</td>\n",
              "      <td>6907.000000</td>\n",
              "      <td>6907.000000</td>\n",
              "      <td>6907.000000</td>\n",
              "      <td>6907.000000</td>\n",
              "      <td>6907.000000</td>\n",
              "      <td>6907.000000</td>\n",
              "      <td>6907.000000</td>\n",
              "    </tr>\n",
              "    <tr>\n",
              "      <th>mean</th>\n",
              "      <td>0.232445</td>\n",
              "      <td>0.496934</td>\n",
              "      <td>0.353699</td>\n",
              "      <td>0.196803</td>\n",
              "      <td>0.480469</td>\n",
              "      <td>0.467334</td>\n",
              "      <td>0.468108</td>\n",
              "      <td>0.554070</td>\n",
              "      <td>0.412552</td>\n",
              "      <td>0.542421</td>\n",
              "      <td>0.400705</td>\n",
              "      <td>0.179652</td>\n",
              "      <td>0.445930</td>\n",
              "    </tr>\n",
              "    <tr>\n",
              "      <th>std</th>\n",
              "      <td>0.393172</td>\n",
              "      <td>0.259792</td>\n",
              "      <td>0.478152</td>\n",
              "      <td>0.151400</td>\n",
              "      <td>0.281378</td>\n",
              "      <td>0.265233</td>\n",
              "      <td>0.322417</td>\n",
              "      <td>0.336729</td>\n",
              "      <td>0.321807</td>\n",
              "      <td>0.417554</td>\n",
              "      <td>0.234087</td>\n",
              "      <td>0.127846</td>\n",
              "      <td>0.336729</td>\n",
              "    </tr>\n",
              "    <tr>\n",
              "      <th>min</th>\n",
              "      <td>0.000000</td>\n",
              "      <td>0.000000</td>\n",
              "      <td>0.000000</td>\n",
              "      <td>0.000000</td>\n",
              "      <td>0.000000</td>\n",
              "      <td>0.000000</td>\n",
              "      <td>0.000000</td>\n",
              "      <td>0.000000</td>\n",
              "      <td>0.000000</td>\n",
              "      <td>0.000000</td>\n",
              "      <td>0.000000</td>\n",
              "      <td>0.000000</td>\n",
              "      <td>0.000000</td>\n",
              "    </tr>\n",
              "    <tr>\n",
              "      <th>25%</th>\n",
              "      <td>0.000000</td>\n",
              "      <td>0.276273</td>\n",
              "      <td>0.000000</td>\n",
              "      <td>0.081818</td>\n",
              "      <td>0.266667</td>\n",
              "      <td>0.265733</td>\n",
              "      <td>0.111111</td>\n",
              "      <td>0.083333</td>\n",
              "      <td>0.000000</td>\n",
              "      <td>0.000000</td>\n",
              "      <td>0.333333</td>\n",
              "      <td>0.102975</td>\n",
              "      <td>0.208333</td>\n",
              "    </tr>\n",
              "    <tr>\n",
              "      <th>50%</th>\n",
              "      <td>0.000000</td>\n",
              "      <td>0.496934</td>\n",
              "      <td>0.000000</td>\n",
              "      <td>0.161725</td>\n",
              "      <td>0.400000</td>\n",
              "      <td>0.475069</td>\n",
              "      <td>0.444444</td>\n",
              "      <td>0.583333</td>\n",
              "      <td>0.500000</td>\n",
              "      <td>0.500000</td>\n",
              "      <td>0.333333</td>\n",
              "      <td>0.155543</td>\n",
              "      <td>0.416667</td>\n",
              "    </tr>\n",
              "    <tr>\n",
              "      <th>75%</th>\n",
              "      <td>0.500000</td>\n",
              "      <td>0.702292</td>\n",
              "      <td>1.000000</td>\n",
              "      <td>0.283686</td>\n",
              "      <td>0.666667</td>\n",
              "      <td>0.658881</td>\n",
              "      <td>0.777778</td>\n",
              "      <td>0.791667</td>\n",
              "      <td>0.500000</td>\n",
              "      <td>1.000000</td>\n",
              "      <td>0.333333</td>\n",
              "      <td>0.221004</td>\n",
              "      <td>0.916667</td>\n",
              "    </tr>\n",
              "    <tr>\n",
              "      <th>max</th>\n",
              "      <td>1.000000</td>\n",
              "      <td>1.000000</td>\n",
              "      <td>1.000000</td>\n",
              "      <td>1.000000</td>\n",
              "      <td>1.000000</td>\n",
              "      <td>1.000000</td>\n",
              "      <td>1.000000</td>\n",
              "      <td>1.000000</td>\n",
              "      <td>1.000000</td>\n",
              "      <td>1.000000</td>\n",
              "      <td>1.000000</td>\n",
              "      <td>1.000000</td>\n",
              "      <td>1.000000</td>\n",
              "    </tr>\n",
              "  </tbody>\n",
              "</table>\n",
              "</div>"
            ],
            "text/plain": [
              "       Item_Identifier  Item_Weight  ...  Item_Outlet_Sales  Outlet_Years\n",
              "count      6907.000000  6907.000000  ...        6907.000000   6907.000000\n",
              "mean          0.232445     0.496934  ...           0.179652      0.445930\n",
              "std           0.393172     0.259792  ...           0.127846      0.336729\n",
              "min           0.000000     0.000000  ...           0.000000      0.000000\n",
              "25%           0.000000     0.276273  ...           0.102975      0.208333\n",
              "50%           0.000000     0.496934  ...           0.155543      0.416667\n",
              "75%           0.500000     0.702292  ...           0.221004      0.916667\n",
              "max           1.000000     1.000000  ...           1.000000      1.000000\n",
              "\n",
              "[8 rows x 13 columns]"
            ]
          },
          "metadata": {
            "tags": []
          },
          "execution_count": 28
        }
      ]
    },
    {
      "cell_type": "code",
      "metadata": {
        "colab": {
          "base_uri": "https://localhost:8080/"
        },
        "id": "ZoyiTFsyJUxn",
        "outputId": "378b43d6-9af8-4f5f-da6c-ef6ef8df0d8e"
      },
      "source": [
        "data.dtypes"
      ],
      "execution_count": 8,
      "outputs": [
        {
          "output_type": "execute_result",
          "data": {
            "text/plain": [
              "Item_Identifier                int64\n",
              "Item_Weight                  float64\n",
              "Item_Fat_Content               int64\n",
              "Item_Visibility              float64\n",
              "Item_Type                      int64\n",
              "Item_MRP                     float64\n",
              "Outlet_Identifier              int64\n",
              "Outlet_Establishment_Year      int64\n",
              "Outlet_Size                    int64\n",
              "Outlet_Location_Type           int64\n",
              "Outlet_Type                    int64\n",
              "Item_Outlet_Sales            float64\n",
              "Outlet_Years                   int64\n",
              "dtype: object"
            ]
          },
          "metadata": {
            "tags": []
          },
          "execution_count": 8
        }
      ]
    },
    {
      "cell_type": "code",
      "metadata": {
        "id": "XevPndVjJgRn"
      },
      "source": [
        "# Setting all the values in the range 0 to 1\n",
        "for i in data.columns[:]:\n",
        "    data[i] = (data[i] - data[i].min()) / (data[i].max() - data[i].min())"
      ],
      "execution_count": 11,
      "outputs": []
    },
    {
      "cell_type": "code",
      "metadata": {
        "colab": {
          "base_uri": "https://localhost:8080/",
          "height": 221
        },
        "id": "g7bnMe7XJzJJ",
        "outputId": "1d359b07-e75d-4a33-d6aa-54adc565815a"
      },
      "source": [
        "data.head()"
      ],
      "execution_count": 12,
      "outputs": [
        {
          "output_type": "execute_result",
          "data": {
            "text/html": [
              "<div>\n",
              "<style scoped>\n",
              "    .dataframe tbody tr th:only-of-type {\n",
              "        vertical-align: middle;\n",
              "    }\n",
              "\n",
              "    .dataframe tbody tr th {\n",
              "        vertical-align: top;\n",
              "    }\n",
              "\n",
              "    .dataframe thead th {\n",
              "        text-align: right;\n",
              "    }\n",
              "</style>\n",
              "<table border=\"1\" class=\"dataframe\">\n",
              "  <thead>\n",
              "    <tr style=\"text-align: right;\">\n",
              "      <th></th>\n",
              "      <th>Item_Identifier</th>\n",
              "      <th>Item_Weight</th>\n",
              "      <th>Item_Fat_Content</th>\n",
              "      <th>Item_Visibility</th>\n",
              "      <th>Item_Type</th>\n",
              "      <th>Item_MRP</th>\n",
              "      <th>Outlet_Identifier</th>\n",
              "      <th>Outlet_Establishment_Year</th>\n",
              "      <th>Outlet_Size</th>\n",
              "      <th>Outlet_Location_Type</th>\n",
              "      <th>Outlet_Type</th>\n",
              "      <th>Item_Outlet_Sales</th>\n",
              "      <th>Outlet_Years</th>\n",
              "    </tr>\n",
              "  </thead>\n",
              "  <tbody>\n",
              "    <tr>\n",
              "      <th>0</th>\n",
              "      <td>0.0</td>\n",
              "      <td>0.282525</td>\n",
              "      <td>0.0</td>\n",
              "      <td>0.048866</td>\n",
              "      <td>0.266667</td>\n",
              "      <td>0.927507</td>\n",
              "      <td>0.000000</td>\n",
              "      <td>0.583333</td>\n",
              "      <td>0.5</td>\n",
              "      <td>0.0</td>\n",
              "      <td>0.333333</td>\n",
              "      <td>0.324387</td>\n",
              "      <td>0.416667</td>\n",
              "    </tr>\n",
              "    <tr>\n",
              "      <th>1</th>\n",
              "      <td>0.5</td>\n",
              "      <td>0.081274</td>\n",
              "      <td>1.0</td>\n",
              "      <td>0.058705</td>\n",
              "      <td>0.933333</td>\n",
              "      <td>0.072068</td>\n",
              "      <td>0.111111</td>\n",
              "      <td>1.000000</td>\n",
              "      <td>0.5</td>\n",
              "      <td>1.0</td>\n",
              "      <td>0.666667</td>\n",
              "      <td>0.035939</td>\n",
              "      <td>0.000000</td>\n",
              "    </tr>\n",
              "    <tr>\n",
              "      <th>2</th>\n",
              "      <td>0.0</td>\n",
              "      <td>0.770765</td>\n",
              "      <td>0.0</td>\n",
              "      <td>0.051037</td>\n",
              "      <td>0.666667</td>\n",
              "      <td>0.468288</td>\n",
              "      <td>0.000000</td>\n",
              "      <td>0.583333</td>\n",
              "      <td>0.5</td>\n",
              "      <td>0.0</td>\n",
              "      <td>0.333333</td>\n",
              "      <td>0.180863</td>\n",
              "      <td>0.416667</td>\n",
              "    </tr>\n",
              "    <tr>\n",
              "      <th>3</th>\n",
              "      <td>0.0</td>\n",
              "      <td>0.871986</td>\n",
              "      <td>1.0</td>\n",
              "      <td>0.000000</td>\n",
              "      <td>0.400000</td>\n",
              "      <td>0.640093</td>\n",
              "      <td>0.222222</td>\n",
              "      <td>0.541667</td>\n",
              "      <td>0.5</td>\n",
              "      <td>1.0</td>\n",
              "      <td>0.000000</td>\n",
              "      <td>0.061260</td>\n",
              "      <td>0.458333</td>\n",
              "    </tr>\n",
              "    <tr>\n",
              "      <th>4</th>\n",
              "      <td>1.0</td>\n",
              "      <td>0.260494</td>\n",
              "      <td>0.0</td>\n",
              "      <td>0.000000</td>\n",
              "      <td>0.600000</td>\n",
              "      <td>0.095805</td>\n",
              "      <td>0.333333</td>\n",
              "      <td>0.083333</td>\n",
              "      <td>1.0</td>\n",
              "      <td>1.0</td>\n",
              "      <td>0.333333</td>\n",
              "      <td>0.084247</td>\n",
              "      <td>0.916667</td>\n",
              "    </tr>\n",
              "  </tbody>\n",
              "</table>\n",
              "</div>"
            ],
            "text/plain": [
              "   Item_Identifier  Item_Weight  ...  Item_Outlet_Sales  Outlet_Years\n",
              "0              0.0     0.282525  ...           0.324387      0.416667\n",
              "1              0.5     0.081274  ...           0.035939      0.000000\n",
              "2              0.0     0.770765  ...           0.180863      0.416667\n",
              "3              0.0     0.871986  ...           0.061260      0.458333\n",
              "4              1.0     0.260494  ...           0.084247      0.916667\n",
              "\n",
              "[5 rows x 13 columns]"
            ]
          },
          "metadata": {
            "tags": []
          },
          "execution_count": 12
        }
      ]
    },
    {
      "cell_type": "markdown",
      "metadata": {
        "id": "X_Hih7osK5Tp"
      },
      "source": [
        "Checking by using the method describe if the the minimum and maximum values are between 0-1 for all the columns.  "
      ]
    },
    {
      "cell_type": "code",
      "metadata": {
        "colab": {
          "base_uri": "https://localhost:8080/",
          "height": 313
        },
        "id": "Rx0bBwBQJ2zg",
        "outputId": "b65228fe-a671-4e22-a8cc-ef6b2147c790"
      },
      "source": [
        "data.describe()"
      ],
      "execution_count": 13,
      "outputs": [
        {
          "output_type": "execute_result",
          "data": {
            "text/html": [
              "<div>\n",
              "<style scoped>\n",
              "    .dataframe tbody tr th:only-of-type {\n",
              "        vertical-align: middle;\n",
              "    }\n",
              "\n",
              "    .dataframe tbody tr th {\n",
              "        vertical-align: top;\n",
              "    }\n",
              "\n",
              "    .dataframe thead th {\n",
              "        text-align: right;\n",
              "    }\n",
              "</style>\n",
              "<table border=\"1\" class=\"dataframe\">\n",
              "  <thead>\n",
              "    <tr style=\"text-align: right;\">\n",
              "      <th></th>\n",
              "      <th>Item_Identifier</th>\n",
              "      <th>Item_Weight</th>\n",
              "      <th>Item_Fat_Content</th>\n",
              "      <th>Item_Visibility</th>\n",
              "      <th>Item_Type</th>\n",
              "      <th>Item_MRP</th>\n",
              "      <th>Outlet_Identifier</th>\n",
              "      <th>Outlet_Establishment_Year</th>\n",
              "      <th>Outlet_Size</th>\n",
              "      <th>Outlet_Location_Type</th>\n",
              "      <th>Outlet_Type</th>\n",
              "      <th>Item_Outlet_Sales</th>\n",
              "      <th>Outlet_Years</th>\n",
              "    </tr>\n",
              "  </thead>\n",
              "  <tbody>\n",
              "    <tr>\n",
              "      <th>count</th>\n",
              "      <td>6907.000000</td>\n",
              "      <td>6907.000000</td>\n",
              "      <td>6907.000000</td>\n",
              "      <td>6907.000000</td>\n",
              "      <td>6907.000000</td>\n",
              "      <td>6907.000000</td>\n",
              "      <td>6907.000000</td>\n",
              "      <td>6907.000000</td>\n",
              "      <td>6907.000000</td>\n",
              "      <td>6907.000000</td>\n",
              "      <td>6907.000000</td>\n",
              "      <td>5000.000000</td>\n",
              "      <td>6907.000000</td>\n",
              "    </tr>\n",
              "    <tr>\n",
              "      <th>mean</th>\n",
              "      <td>0.232445</td>\n",
              "      <td>0.496934</td>\n",
              "      <td>0.353699</td>\n",
              "      <td>0.196803</td>\n",
              "      <td>0.480469</td>\n",
              "      <td>0.467334</td>\n",
              "      <td>0.468108</td>\n",
              "      <td>0.554070</td>\n",
              "      <td>0.412552</td>\n",
              "      <td>0.542421</td>\n",
              "      <td>0.400705</td>\n",
              "      <td>0.188847</td>\n",
              "      <td>0.445930</td>\n",
              "    </tr>\n",
              "    <tr>\n",
              "      <th>std</th>\n",
              "      <td>0.393172</td>\n",
              "      <td>0.259792</td>\n",
              "      <td>0.478152</td>\n",
              "      <td>0.151400</td>\n",
              "      <td>0.281378</td>\n",
              "      <td>0.265233</td>\n",
              "      <td>0.322417</td>\n",
              "      <td>0.336729</td>\n",
              "      <td>0.321807</td>\n",
              "      <td>0.417554</td>\n",
              "      <td>0.234087</td>\n",
              "      <td>0.149243</td>\n",
              "      <td>0.336729</td>\n",
              "    </tr>\n",
              "    <tr>\n",
              "      <th>min</th>\n",
              "      <td>0.000000</td>\n",
              "      <td>0.000000</td>\n",
              "      <td>0.000000</td>\n",
              "      <td>0.000000</td>\n",
              "      <td>0.000000</td>\n",
              "      <td>0.000000</td>\n",
              "      <td>0.000000</td>\n",
              "      <td>0.000000</td>\n",
              "      <td>0.000000</td>\n",
              "      <td>0.000000</td>\n",
              "      <td>0.000000</td>\n",
              "      <td>0.000000</td>\n",
              "      <td>0.000000</td>\n",
              "    </tr>\n",
              "    <tr>\n",
              "      <th>25%</th>\n",
              "      <td>0.000000</td>\n",
              "      <td>0.276273</td>\n",
              "      <td>0.000000</td>\n",
              "      <td>0.081818</td>\n",
              "      <td>0.266667</td>\n",
              "      <td>0.265733</td>\n",
              "      <td>0.111111</td>\n",
              "      <td>0.083333</td>\n",
              "      <td>0.000000</td>\n",
              "      <td>0.000000</td>\n",
              "      <td>0.333333</td>\n",
              "      <td>0.071237</td>\n",
              "      <td>0.208333</td>\n",
              "    </tr>\n",
              "    <tr>\n",
              "      <th>50%</th>\n",
              "      <td>0.000000</td>\n",
              "      <td>0.496934</td>\n",
              "      <td>0.000000</td>\n",
              "      <td>0.161725</td>\n",
              "      <td>0.400000</td>\n",
              "      <td>0.475069</td>\n",
              "      <td>0.444444</td>\n",
              "      <td>0.583333</td>\n",
              "      <td>0.500000</td>\n",
              "      <td>0.500000</td>\n",
              "      <td>0.333333</td>\n",
              "      <td>0.155543</td>\n",
              "      <td>0.416667</td>\n",
              "    </tr>\n",
              "    <tr>\n",
              "      <th>75%</th>\n",
              "      <td>0.500000</td>\n",
              "      <td>0.702292</td>\n",
              "      <td>1.000000</td>\n",
              "      <td>0.283686</td>\n",
              "      <td>0.666667</td>\n",
              "      <td>0.658881</td>\n",
              "      <td>0.777778</td>\n",
              "      <td>0.791667</td>\n",
              "      <td>0.500000</td>\n",
              "      <td>1.000000</td>\n",
              "      <td>0.333333</td>\n",
              "      <td>0.268028</td>\n",
              "      <td>0.916667</td>\n",
              "    </tr>\n",
              "    <tr>\n",
              "      <th>max</th>\n",
              "      <td>1.000000</td>\n",
              "      <td>1.000000</td>\n",
              "      <td>1.000000</td>\n",
              "      <td>1.000000</td>\n",
              "      <td>1.000000</td>\n",
              "      <td>1.000000</td>\n",
              "      <td>1.000000</td>\n",
              "      <td>1.000000</td>\n",
              "      <td>1.000000</td>\n",
              "      <td>1.000000</td>\n",
              "      <td>1.000000</td>\n",
              "      <td>1.000000</td>\n",
              "      <td>1.000000</td>\n",
              "    </tr>\n",
              "  </tbody>\n",
              "</table>\n",
              "</div>"
            ],
            "text/plain": [
              "       Item_Identifier  Item_Weight  ...  Item_Outlet_Sales  Outlet_Years\n",
              "count      6907.000000  6907.000000  ...        5000.000000   6907.000000\n",
              "mean          0.232445     0.496934  ...           0.188847      0.445930\n",
              "std           0.393172     0.259792  ...           0.149243      0.336729\n",
              "min           0.000000     0.000000  ...           0.000000      0.000000\n",
              "25%           0.000000     0.276273  ...           0.071237      0.208333\n",
              "50%           0.000000     0.496934  ...           0.155543      0.416667\n",
              "75%           0.500000     0.702292  ...           0.268028      0.916667\n",
              "max           1.000000     1.000000  ...           1.000000      1.000000\n",
              "\n",
              "[8 rows x 13 columns]"
            ]
          },
          "metadata": {
            "tags": []
          },
          "execution_count": 13
        }
      ]
    },
    {
      "cell_type": "code",
      "metadata": {
        "colab": {
          "base_uri": "https://localhost:8080/"
        },
        "id": "yvnQn-dSK2R9",
        "outputId": "886d39d8-673e-4f39-9459-548c155429de"
      },
      "source": [
        "data.shape"
      ],
      "execution_count": 14,
      "outputs": [
        {
          "output_type": "execute_result",
          "data": {
            "text/plain": [
              "(6907, 13)"
            ]
          },
          "metadata": {
            "tags": []
          },
          "execution_count": 14
        }
      ]
    },
    {
      "cell_type": "markdown",
      "metadata": {
        "id": "uSyQvYIVLlKy"
      },
      "source": [
        "Separating the independent and the dependant variables"
      ]
    },
    {
      "cell_type": "code",
      "metadata": {
        "colab": {
          "base_uri": "https://localhost:8080/"
        },
        "id": "XhW4YlJEKJYW",
        "outputId": "84595f47-0225-4292-d5ca-46f08edb4522"
      },
      "source": [
        "X = data.drop('Item_Outlet_Sales', axis = 1)\n",
        "\n",
        "y = data['Item_Outlet_Sales']\n",
        "\n",
        "\n",
        "X.shape, y.shape"
      ],
      "execution_count": 34,
      "outputs": [
        {
          "output_type": "execute_result",
          "data": {
            "text/plain": [
              "((6907, 12), (6907,))"
            ]
          },
          "metadata": {
            "tags": []
          },
          "execution_count": 34
        }
      ]
    },
    {
      "cell_type": "code",
      "metadata": {
        "colab": {
          "base_uri": "https://localhost:8080/"
        },
        "id": "xJDkIGVEfiOl",
        "outputId": "b59f423a-30f2-4596-86ea-b5d652a672f2"
      },
      "source": [
        "y.iloc[:].value_counts()"
      ],
      "execution_count": 41,
      "outputs": [
        {
          "output_type": "execute_result",
          "data": {
            "text/plain": [
              "0.155543    1910\n",
              "0.081097      11\n",
              "0.104901      10\n",
              "0.063594      10\n",
              "0.202917       9\n",
              "            ... \n",
              "0.039265       1\n",
              "0.012077       1\n",
              "0.118436       1\n",
              "0.092474       1\n",
              "0.000000       1\n",
              "Name: Item_Outlet_Sales, Length: 2676, dtype: int64"
            ]
          },
          "metadata": {
            "tags": []
          },
          "execution_count": 41
        }
      ]
    },
    {
      "cell_type": "code",
      "metadata": {
        "colab": {
          "base_uri": "https://localhost:8080/"
        },
        "id": "np3fESjogQVp",
        "outputId": "605363b5-fc94-493f-fe0b-1ba399352800"
      },
      "source": [
        "data['Item_Outlet_Sales'].value_counts()"
      ],
      "execution_count": 42,
      "outputs": [
        {
          "output_type": "execute_result",
          "data": {
            "text/plain": [
              "0.155543    1910\n",
              "0.081097      11\n",
              "0.104901      10\n",
              "0.063594      10\n",
              "0.202917       9\n",
              "            ... \n",
              "0.039265       1\n",
              "0.012077       1\n",
              "0.118436       1\n",
              "0.092474       1\n",
              "0.000000       1\n",
              "Name: Item_Outlet_Sales, Length: 2676, dtype: int64"
            ]
          },
          "metadata": {
            "tags": []
          },
          "execution_count": 42
        }
      ]
    },
    {
      "cell_type": "code",
      "metadata": {
        "id": "qLDyRnSZSp_a"
      },
      "source": [
        "# Creating training and validation set\n",
        "\n",
        "# stratify will make sure that the distribution of classes in train and validation set it similar\n",
        "# random state to regenerate the same train and validation set\n",
        "# test size 0.2 will keep 20% data in validation and remaining 80% in train set\n",
        "\n",
        "X_train,X_test,y_train,y_test = train_test_split(X,y, random_state=10, test_size=0.2)"
      ],
      "execution_count": 45,
      "outputs": []
    },
    {
      "cell_type": "code",
      "metadata": {
        "colab": {
          "base_uri": "https://localhost:8080/"
        },
        "id": "BPdnvy_eWIMg",
        "outputId": "2ccbcf37-777e-4475-df8e-cd47ac01ac7b"
      },
      "source": [
        "print(X_train.shape)\n",
        "print(y_train.shape)\n",
        "print(X_test.shape)\n",
        "print(y_test.shape)"
      ],
      "execution_count": 47,
      "outputs": [
        {
          "output_type": "stream",
          "text": [
            "(5525, 12)\n",
            "(5525,)\n",
            "(1382, 12)\n",
            "(1382,)\n"
          ],
          "name": "stdout"
        }
      ]
    },
    {
      "cell_type": "code",
      "metadata": {
        "colab": {
          "base_uri": "https://localhost:8080/"
        },
        "id": "kJUEpschhFy7",
        "outputId": "d0746d63-5e38-45da-b36e-51aad1091930"
      },
      "source": [
        "print(keras.__version__)\n",
        "print(tf.__version__)"
      ],
      "execution_count": 53,
      "outputs": [
        {
          "output_type": "stream",
          "text": [
            "2.3.1\n",
            "1.15.2\n"
          ],
          "name": "stdout"
        }
      ]
    },
    {
      "cell_type": "markdown",
      "metadata": {
        "id": "DSyQYSxhxuVm"
      },
      "source": [
        "# 2. Define the architecture\n",
        "\n",
        "BESKRIVELSE!\n",
        "\n",
        "- 5 hidden layers\n",
        "- \n"
      ]
    },
    {
      "cell_type": "code",
      "metadata": {
        "id": "y-ESESP2iLbE"
      },
      "source": [
        "from keras.models import Sequential\n",
        "from keras.layers import InputLayer, Dense \n",
        "#from keras.wrappers.scikit_learn import KerasRegressor\n",
        "from sklearn.metrics import accuracy_score"
      ],
      "execution_count": 64,
      "outputs": []
    },
    {
      "cell_type": "code",
      "metadata": {
        "id": "bnDskXoU_YE9"
      },
      "source": [
        "from sklearn.metrics import mean_squared_error, r2_score\n",
        "from math import sqrt"
      ],
      "execution_count": 124,
      "outputs": []
    },
    {
      "cell_type": "code",
      "metadata": {
        "id": "r0F11JJLijRD"
      },
      "source": [
        "input_neurons = X_train.shape[1]"
      ],
      "execution_count": 56,
      "outputs": []
    },
    {
      "cell_type": "markdown",
      "metadata": {
        "id": "YXx6wMNvlKkP"
      },
      "source": [
        "Tatt bort fra --------------------------"
      ]
    },
    {
      "cell_type": "markdown",
      "metadata": {
        "id": "P7LFCrOHlH1N"
      },
      "source": [
        "model = Sequential()\n",
        "model.add(Dense(64, input_dim=input_neurons, init='normal', activation='relu'))\n",
        "model.add(Dense(32, init='normal', activation='relu'))\n",
        "model.add(Dense(16, init='normal', activation='relu'))\n",
        "model.add(Dense(8, init='normal', activation='relu'))\n",
        "model.add(Dense(4, init='normal', activation='relu'))\n",
        "model.add(Dense(1, init='normal'))\n",
        "# model.add(Dense(1, init='normal',activation='softmax'))\n",
        "\n",
        "model.compile(loss='mean_squared_error', optimizer = 'adam', metrics=['mean_squared_error'])"
      ]
    },
    {
      "cell_type": "markdown",
      "metadata": {
        "id": "m5aG_bYwlR6h"
      },
      "source": [
        "model.summary()"
      ]
    },
    {
      "cell_type": "markdown",
      "metadata": {
        "id": "ZrVaD_HDQFEJ"
      },
      "source": [
        "# 3.\n",
        "## Traning the model"
      ]
    },
    {
      "cell_type": "markdown",
      "metadata": {
        "id": "FTEq8T33lXlI"
      },
      "source": [
        "model.fit(X_train,y_train,epochs=8, batch_size=1, verbose=1)"
      ]
    },
    {
      "cell_type": "markdown",
      "metadata": {
        "id": "v3qDjB-KQj3H"
      },
      "source": [
        "# 4. \n",
        "## Generated predictions to CSV file"
      ]
    },
    {
      "cell_type": "code",
      "metadata": {
        "id": "5Nui6dk8Qjji"
      },
      "source": [
        ""
      ],
      "execution_count": null,
      "outputs": []
    },
    {
      "cell_type": "markdown",
      "metadata": {
        "id": "ytgicH32QOk9"
      },
      "source": [
        "# 5. \n",
        "## R2 Score"
      ]
    },
    {
      "cell_type": "markdown",
      "metadata": {
        "id": "asViSYQtlouc"
      },
      "source": [
        "score = model.evaluate(X_test, y_test, verbose=0)\n",
        "score"
      ]
    },
    {
      "cell_type": "markdown",
      "metadata": {
        "id": "ZEKDV21glo7-"
      },
      "source": [
        "prediction = model.predict(X_test)\n",
        "R2_SCORE = r2_score(y_test, prediction)\n",
        "\n",
        "print(\"R2 Score:\", round(R2_SCORE,3))"
      ]
    },
    {
      "cell_type": "markdown",
      "metadata": {
        "id": "dx-xItkSlwTV"
      },
      "source": [
        "Til her ----------------------------------"
      ]
    },
    {
      "cell_type": "code",
      "metadata": {
        "colab": {
          "base_uri": "https://localhost:8080/"
        },
        "id": "ymvUxgJlk91M",
        "outputId": "28b6c8fe-17e5-4d0f-fed3-1ad44b6c2465"
      },
      "source": [
        "model2 = Sequential()\n",
        "\n",
        "model2.add(Dense(32, input_dim=input_neurons, init='normal', activation='relu'))\n",
        "model2.add(Dense(16, init='normal', activation='relu'))\n",
        "model2.add(Dense(8, init='normal', activation='relu'))\n",
        "model2.add(Dense(4, init='normal', activation='relu'))\n",
        "model2.add(Dense(1, init='normal'))\n",
        "model2.compile(loss='mean_squared_error', optimizer = 'adam')"
      ],
      "execution_count": 136,
      "outputs": [
        {
          "output_type": "stream",
          "text": [
            "/usr/local/lib/python3.6/dist-packages/ipykernel_launcher.py:3: UserWarning: Update your `Dense` call to the Keras 2 API: `Dense(32, input_dim=12, activation=\"relu\", kernel_initializer=\"normal\")`\n",
            "  This is separate from the ipykernel package so we can avoid doing imports until\n",
            "/usr/local/lib/python3.6/dist-packages/ipykernel_launcher.py:4: UserWarning: Update your `Dense` call to the Keras 2 API: `Dense(16, activation=\"relu\", kernel_initializer=\"normal\")`\n",
            "  after removing the cwd from sys.path.\n",
            "/usr/local/lib/python3.6/dist-packages/ipykernel_launcher.py:5: UserWarning: Update your `Dense` call to the Keras 2 API: `Dense(8, activation=\"relu\", kernel_initializer=\"normal\")`\n",
            "  \"\"\"\n",
            "/usr/local/lib/python3.6/dist-packages/ipykernel_launcher.py:6: UserWarning: Update your `Dense` call to the Keras 2 API: `Dense(4, activation=\"relu\", kernel_initializer=\"normal\")`\n",
            "  \n",
            "/usr/local/lib/python3.6/dist-packages/ipykernel_launcher.py:7: UserWarning: Update your `Dense` call to the Keras 2 API: `Dense(1, kernel_initializer=\"normal\")`\n",
            "  import sys\n"
          ],
          "name": "stderr"
        }
      ]
    },
    {
      "cell_type": "code",
      "metadata": {
        "colab": {
          "base_uri": "https://localhost:8080/"
        },
        "id": "e6caJd-ujTKv",
        "outputId": "1f25160f-a5ab-4050-8e06-a8d761bac96a"
      },
      "source": [
        "model2.summary()"
      ],
      "execution_count": 131,
      "outputs": [
        {
          "output_type": "stream",
          "text": [
            "Model: \"sequential_6\"\n",
            "_________________________________________________________________\n",
            "Layer (type)                 Output Shape              Param #   \n",
            "=================================================================\n",
            "dense_30 (Dense)             (None, 32)                416       \n",
            "_________________________________________________________________\n",
            "dense_31 (Dense)             (None, 16)                528       \n",
            "_________________________________________________________________\n",
            "dense_32 (Dense)             (None, 8)                 136       \n",
            "_________________________________________________________________\n",
            "dense_33 (Dense)             (None, 4)                 36        \n",
            "_________________________________________________________________\n",
            "dense_34 (Dense)             (None, 1)                 5         \n",
            "=================================================================\n",
            "Total params: 1,121\n",
            "Trainable params: 1,121\n",
            "Non-trainable params: 0\n",
            "_________________________________________________________________\n"
          ],
          "name": "stdout"
        }
      ]
    },
    {
      "cell_type": "code",
      "metadata": {
        "colab": {
          "base_uri": "https://localhost:8080/"
        },
        "id": "XmNIF3rZj0lc",
        "outputId": "609d5caa-0dd2-4fdf-a42c-86c7b990478f"
      },
      "source": [
        "BATCH = 2000\n",
        "\n",
        "print('Training time, it is...')\n",
        "model2.fit(X_train, y_train,\n",
        "          batch_size=BATCH,\n",
        "          epochs=10, verbose=1\n",
        "         )"
      ],
      "execution_count": 132,
      "outputs": [
        {
          "output_type": "stream",
          "text": [
            "Training time, it is...\n",
            "Epoch 1/10\n",
            "5525/5525 [==============================] - 0s 51us/step - loss: 0.0480\n",
            "Epoch 2/10\n",
            "5525/5525 [==============================] - 0s 3us/step - loss: 0.0470\n",
            "Epoch 3/10\n",
            "5525/5525 [==============================] - 0s 3us/step - loss: 0.0460\n",
            "Epoch 4/10\n",
            "5525/5525 [==============================] - 0s 3us/step - loss: 0.0450\n",
            "Epoch 5/10\n",
            "5525/5525 [==============================] - 0s 3us/step - loss: 0.0440\n",
            "Epoch 6/10\n",
            "5525/5525 [==============================] - 0s 3us/step - loss: 0.0429\n",
            "Epoch 7/10\n",
            "5525/5525 [==============================] - 0s 3us/step - loss: 0.0419\n",
            "Epoch 8/10\n",
            "5525/5525 [==============================] - 0s 3us/step - loss: 0.0409\n",
            "Epoch 9/10\n",
            "5525/5525 [==============================] - 0s 3us/step - loss: 0.0399\n",
            "Epoch 10/10\n",
            "5525/5525 [==============================] - 0s 3us/step - loss: 0.0390\n"
          ],
          "name": "stdout"
        },
        {
          "output_type": "execute_result",
          "data": {
            "text/plain": [
              "<keras.callbacks.callbacks.History at 0x7f6b7e3bb710>"
            ]
          },
          "metadata": {
            "tags": []
          },
          "execution_count": 132
        }
      ]
    },
    {
      "cell_type": "code",
      "metadata": {
        "colab": {
          "base_uri": "https://localhost:8080/"
        },
        "id": "6ICkcsoakMHU",
        "outputId": "9468f727-8abe-4ee5-c8f9-8be020b01485"
      },
      "source": [
        "score = model.evaluate(X_test, y_test, verbose=0)\n",
        "score"
      ],
      "execution_count": 133,
      "outputs": [
        {
          "output_type": "execute_result",
          "data": {
            "text/plain": [
              "[0.6888743358652084, 0.6888743042945862]"
            ]
          },
          "metadata": {
            "tags": []
          },
          "execution_count": 133
        }
      ]
    },
    {
      "cell_type": "code",
      "metadata": {
        "colab": {
          "base_uri": "https://localhost:8080/"
        },
        "id": "D6JqcsC2j-zf",
        "outputId": "b17b8afa-18b0-4df1-da3f-3f71bd9abd4e"
      },
      "source": [
        "prediction = model2.predict(X_test)\n",
        "MODEL2 = r2_score(y_test, prediction)\n",
        "\n",
        "print(\"R2 Score:\", round(MODEL2))"
      ],
      "execution_count": 135,
      "outputs": [
        {
          "output_type": "stream",
          "text": [
            "R2 Score: -1.0\n"
          ],
          "name": "stdout"
        }
      ]
    },
    {
      "cell_type": "code",
      "metadata": {
        "id": "XAP1nEdVki9k"
      },
      "source": [
        ""
      ],
      "execution_count": null,
      "outputs": []
    }
  ]
}